{
 "nbformat": 4,
 "nbformat_minor": 2,
 "metadata": {
  "language_info": {
   "name": "python",
   "codemirror_mode": {
    "name": "ipython",
    "version": 3
   },
   "version": "3.7.6-final"
  },
  "orig_nbformat": 2,
  "file_extension": ".py",
  "mimetype": "text/x-python",
  "name": "python",
  "npconvert_exporter": "python",
  "pygments_lexer": "ipython3",
  "version": 3,
  "kernelspec": {
   "name": "python37664bitnairalandconda4ff64808d17c4bb386b7d70efa356c03",
   "display_name": "Python 3.7.6 64-bit ('nairaland': conda)"
  }
 },
 "cells": [
  {
   "cell_type": "code",
   "execution_count": 1,
   "metadata": {},
   "outputs": [],
   "source": [
    "import requests\n",
    "from bs4 import BeautifulSoup\n",
    "import pandas as pd\n",
    "import re\n",
    "from tqdm import tqdm "
   ]
  },
  {
   "cell_type": "code",
   "execution_count": 2,
   "metadata": {},
   "outputs": [],
   "source": [
    "# Set headers\n",
    "heads = requests.utils.default_headers()\n",
    "heads.update({\n",
    "    'User-Agent': 'Mozilla/5.0 (X11; Ubuntu; Linux x86_64; rv:52.0) Gecko/20100101 Firefox/52.0',\n",
    "   })"
   ]
  },
  {
   "cell_type": "code",
   "execution_count": 17,
   "metadata": {},
   "outputs": [],
   "source": [
    "start_url = 'https://www.nairaland.com/3357825/2'\n",
    "r1 = requests.get(start_url, heads)\n",
    "raw_html = BeautifulSoup(r1.text, 'lxml')"
   ]
  },
  {
   "cell_type": "code",
   "execution_count": 18,
   "metadata": {},
   "outputs": [],
   "source": [
    "headers = raw_html.find_all('td', class_='bold l pu')\n",
    "bodys = raw_html.find_all('td', class_='l w pd')"
   ]
  },
  {
   "cell_type": "code",
   "execution_count": 19,
   "metadata": {},
   "outputs": [
    {
     "data": {
      "text/plain": "<td class=\"bold l pu\"><a name=\"49686315\"></a><a name=\"msg49686315\"></a><a name=\"3357825.64\"></a><a href=\"/3357825/before-after-hitting-gym-pictures/2#49686315\">Re: Before And After Hitting The Gym Pictures Of A Nairalander</a> by <a class=\"user\" href=\"/proffdada\" title=\"Location:  I believe there's no Allah but God,and Jesus is His Son and our Saviour\">Proffdada</a>: <span class=\"s\"><b>1:34pm</b> On <b>Sep 26</b>, <b>2016</b> </span></td>"
     },
     "execution_count": 19,
     "metadata": {},
     "output_type": "execute_result"
    }
   ],
   "source": [
    "headers[0]"
   ]
  },
  {
   "cell_type": "code",
   "execution_count": 23,
   "metadata": {},
   "outputs": [],
   "source": [
    "td = raw_html.find('td', attrs={'id': 'pb49686327'})"
   ]
  },
  {
   "cell_type": "code",
   "execution_count": 24,
   "metadata": {},
   "outputs": [],
   "source": [
    "content = td.find('div', class_='narrow')"
   ]
  },
  {
   "cell_type": "code",
   "execution_count": 25,
   "metadata": {},
   "outputs": [
    {
     "name": "stdout",
     "output_type": "stream",
     "text": "<div class=\"narrow\">lol better option than wasting time on education.<br/><br/><br/><br/><br/><br/><br/>watch wwe clash of champions here<br/>wwevideos.ml</div>\n"
    }
   ],
   "source": [
    "print(content)"
   ]
  },
  {
   "cell_type": "code",
   "execution_count": null,
   "metadata": {},
   "outputs": [],
   "source": [
    "#pb49686353 > div"
   ]
  },
  {
   "cell_type": "code",
   "execution_count": null,
   "metadata": {},
   "outputs": [],
   "source": []
  }
 ]
}