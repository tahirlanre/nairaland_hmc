{
 "nbformat": 4,
 "nbformat_minor": 2,
 "metadata": {
  "language_info": {
   "name": "python",
   "codemirror_mode": {
    "name": "ipython",
    "version": 3
   },
   "version": "3.7.6-final"
  },
  "orig_nbformat": 2,
  "file_extension": ".py",
  "mimetype": "text/x-python",
  "name": "python",
  "npconvert_exporter": "python",
  "pygments_lexer": "ipython3",
  "version": 3,
  "kernelspec": {
   "name": "python37664bitnairalandconda4ff64808d17c4bb386b7d70efa356c03",
   "display_name": "Python 3.7.6 64-bit ('nairaland': conda)"
  }
 },
 "cells": [
  {
   "cell_type": "code",
   "execution_count": 4,
   "metadata": {},
   "outputs": [],
   "source": [
    "from requests import get\n",
    "from bs4 import BeautifulSoup\n",
    "import pandas as pd\n",
    "import re\n",
    "\n",
    "from tqdm import tqdm"
   ]
  },
  {
   "cell_type": "code",
   "execution_count": 5,
   "metadata": {},
   "outputs": [],
   "source": [
    "start_url = 'https://www.nairaland.com/health/posts/'\n",
    "response = get(start_url)\n",
    "html = BeautifulSoup(response.text, 'html5lib')\n",
    "\n",
    "def get_forum_posts():\n",
    "    forum_posts = []\n",
    "\n",
    "    page = int(html.select('body > div > p:nth-child(7)')[0].select('b')[1].text)\n",
    "\n",
    "    for i in tqdm(range(page)):\n",
    "        forum_url = start_url + '{}'.format(i)\n",
    "        r = get(forum_url)\n",
    "        html_soup = BeautifulSoup(r.text, 'html5lib')\n",
    "        n = 2\n",
    "        while True:\n",
    "            topic = html_soup.select(\"body > div > table:nth-child(9) > tbody > tr:nth-child({})\".format(n))\n",
    "            if len(topic) > 0:\n",
    "                #import pdb; pdb.set_trace()\n",
    "                name = topic[0].select('a')[1].getText() #Get topic of post\n",
    "                views = 0\n",
    "                sub_url = topic[0].select('a')[1].get('href')\n",
    "                no_of_posts = 0\n",
    "                created_by = ''\n",
    "                num_of_page = topic[0].select('a')[-3].text\n",
    "                num_of_page = int(num_of_page[1:-1]) #remove brackets and convert to integer\n",
    "                file_location = ''\n",
    "                forum_posts.append([name, views, sub_url, no_of_posts, created_by, num_of_page, file_location])\n",
    "            else:\n",
    "                break\n",
    "            n = n + 1\n",
    "    return forum_posts"
   ]
  },
  {
   "cell_type": "code",
   "execution_count": null,
   "metadata": {},
   "outputs": [],
   "source": [
    "def getPageNu"
   ]
  },
  {
   "cell_type": "code",
   "execution_count": 6,
   "metadata": {},
   "outputs": [
    {
     "name": "stderr",
     "output_type": "stream",
     "text": "  1%|▏         | 36/2453 [00:54<58:18,  1.45s/it]"
    },
    {
     "ename": "ValueError",
     "evalue": "invalid literal for int() with base 10: '0 Bad Habits That Damages The Brain (picture'",
     "output_type": "error",
     "traceback": [
      "\u001b[0;31m---------------------------------------------------------------------------\u001b[0m",
      "\u001b[0;31mValueError\u001b[0m                                Traceback (most recent call last)",
      "\u001b[0;32m<ipython-input-6-2e8924a1698b>\u001b[0m in \u001b[0;36m<module>\u001b[0;34m\u001b[0m\n\u001b[0;32m----> 1\u001b[0;31m \u001b[0mres\u001b[0m \u001b[0;34m=\u001b[0m \u001b[0mget_forum_posts\u001b[0m\u001b[0;34m(\u001b[0m\u001b[0;34m)\u001b[0m\u001b[0;34m\u001b[0m\u001b[0;34m\u001b[0m\u001b[0m\n\u001b[0m",
      "\u001b[0;32m<ipython-input-5-b7d7d2ca84d5>\u001b[0m in \u001b[0;36mget_forum_posts\u001b[0;34m()\u001b[0m\n\u001b[1;32m     23\u001b[0m                 \u001b[0mcreated_by\u001b[0m \u001b[0;34m=\u001b[0m \u001b[0;34m''\u001b[0m\u001b[0;34m\u001b[0m\u001b[0;34m\u001b[0m\u001b[0m\n\u001b[1;32m     24\u001b[0m                 \u001b[0mnum_of_page\u001b[0m \u001b[0;34m=\u001b[0m \u001b[0mtopic\u001b[0m\u001b[0;34m[\u001b[0m\u001b[0;36m0\u001b[0m\u001b[0;34m]\u001b[0m\u001b[0;34m.\u001b[0m\u001b[0mselect\u001b[0m\u001b[0;34m(\u001b[0m\u001b[0;34m'a'\u001b[0m\u001b[0;34m)\u001b[0m\u001b[0;34m[\u001b[0m\u001b[0;34m-\u001b[0m\u001b[0;36m3\u001b[0m\u001b[0;34m]\u001b[0m\u001b[0;34m.\u001b[0m\u001b[0mtext\u001b[0m\u001b[0;34m\u001b[0m\u001b[0;34m\u001b[0m\u001b[0m\n\u001b[0;32m---> 25\u001b[0;31m                 \u001b[0mnum_of_page\u001b[0m \u001b[0;34m=\u001b[0m \u001b[0mint\u001b[0m\u001b[0;34m(\u001b[0m\u001b[0mnum_of_page\u001b[0m\u001b[0;34m[\u001b[0m\u001b[0;36m1\u001b[0m\u001b[0;34m:\u001b[0m\u001b[0;34m-\u001b[0m\u001b[0;36m1\u001b[0m\u001b[0;34m]\u001b[0m\u001b[0;34m)\u001b[0m \u001b[0;31m#remove brackets and convert to integer\u001b[0m\u001b[0;34m\u001b[0m\u001b[0;34m\u001b[0m\u001b[0m\n\u001b[0m\u001b[1;32m     26\u001b[0m                 \u001b[0mfile_location\u001b[0m \u001b[0;34m=\u001b[0m \u001b[0;34m''\u001b[0m\u001b[0;34m\u001b[0m\u001b[0;34m\u001b[0m\u001b[0m\n\u001b[1;32m     27\u001b[0m                 \u001b[0mforum_posts\u001b[0m\u001b[0;34m.\u001b[0m\u001b[0mappend\u001b[0m\u001b[0;34m(\u001b[0m\u001b[0;34m[\u001b[0m\u001b[0mname\u001b[0m\u001b[0;34m,\u001b[0m \u001b[0mviews\u001b[0m\u001b[0;34m,\u001b[0m \u001b[0msub_url\u001b[0m\u001b[0;34m,\u001b[0m \u001b[0mno_of_posts\u001b[0m\u001b[0;34m,\u001b[0m \u001b[0mcreated_by\u001b[0m\u001b[0;34m,\u001b[0m \u001b[0mnum_of_page\u001b[0m\u001b[0;34m,\u001b[0m \u001b[0mfile_location\u001b[0m\u001b[0;34m]\u001b[0m\u001b[0;34m)\u001b[0m\u001b[0;34m\u001b[0m\u001b[0;34m\u001b[0m\u001b[0m\n",
      "\u001b[0;31mValueError\u001b[0m: invalid literal for int() with base 10: '0 Bad Habits That Damages The Brain (picture'"
     ]
    }
   ],
   "source": [
    "res = get_forum_posts()"
   ]
  },
  {
   "cell_type": "code",
   "execution_count": null,
   "metadata": {},
   "outputs": [],
   "source": [
    "df = pd.DataFrame(res, columns=['name', 'views', 'sub_url', 'no_of_posts', 'created_by', 'num_of_page', 'file_location'])"
   ]
  },
  {
   "cell_type": "code",
   "execution_count": null,
   "metadata": {},
   "outputs": [],
   "source": [
    "df.to_csv('../data/raw/forum_posts.csv', index=False)"
   ]
  },
  {
   "cell_type": "code",
   "execution_count": 30,
   "metadata": {},
   "outputs": [],
   "source": [
    "x = 'https://www.nairaland.com/health/posts/36'\n",
    "resp = get(x)\n",
    "html_ = BeautifulSoup(resp.text, 'html5lib')"
   ]
  },
  {
   "cell_type": "code",
   "execution_count": 31,
   "metadata": {},
   "outputs": [],
   "source": [
    "t = html_.select('body > div > table:nth-child(9) > tbody > tr:nth-child(19)')"
   ]
  },
  {
   "cell_type": "code",
   "execution_count": 32,
   "metadata": {},
   "outputs": [
    {
     "data": {
      "text/plain": "[<tr><td class=\"\" id=\"top3574529\"><a name=\"3574529\"></a> <img src=\"/icons/normal_post.gif\"/> <b><a href=\"/3574529/10-bad-habits-damages-brain\">10 Bad Habits That Damages The Brain (picture)</a> </b> <a href=\"https://www.nairaland.com/3574529/10-bad-habits-damages-brain/1\">(2)</a>  <a href=\"https://www.nairaland.com/3574529/10-bad-habits-damages-brain/2\">(3)</a>  <b>*</b> <br/><span class=\"s\">by Nobody. <b>93</b> posts &amp; <b>45401</b> views. <b>11:18am</b> On <b>Jan 21</b>, <b>2017</b>  Nobody</span></td></tr>]"
     },
     "execution_count": 32,
     "metadata": {},
     "output_type": "execute_result"
    }
   ],
   "source": [
    "t"
   ]
  },
  {
   "cell_type": "code",
   "execution_count": 33,
   "metadata": {},
   "outputs": [
    {
     "data": {
      "text/plain": "'10 Bad Habits That Damages The Brain (picture)'"
     },
     "execution_count": 33,
     "metadata": {},
     "output_type": "execute_result"
    }
   ],
   "source": [
    "t[0].select('a')[-3].text"
   ]
  },
  {
   "cell_type": "code",
   "execution_count": 35,
   "metadata": {},
   "outputs": [
    {
     "data": {
      "text/plain": "[<a name=\"3574529\"></a>,\n <a href=\"/3574529/10-bad-habits-damages-brain\">10 Bad Habits That Damages The Brain (picture)</a>,\n <a href=\"https://www.nairaland.com/3574529/10-bad-habits-damages-brain/1\">(2)</a>,\n <a href=\"https://www.nairaland.com/3574529/10-bad-habits-damages-brain/2\">(3)</a>]"
     },
     "execution_count": 35,
     "metadata": {},
     "output_type": "execute_result"
    }
   ],
   "source": [
    "t[0].select('a')"
   ]
  },
  {
   "cell_type": "code",
   "execution_count": 36,
   "metadata": {},
   "outputs": [],
   "source": [
    "t1 = html_.select('body > div > table:nth-child(9) > tbody > tr:nth-child(20)')"
   ]
  },
  {
   "cell_type": "code",
   "execution_count": 40,
   "metadata": {},
   "outputs": [
    {
     "data": {
      "text/plain": "[<a name=\"4452659\"></a>,\n <a href=\"/4452659/how-train-brain-stop-worrying\">How To Train Your Brain To Stop Worrying !</a>,\n <a href=\"https://www.nairaland.com/4452659/how-train-brain-stop-worrying/1\">(2)</a>,\n <a href=\"https://www.nairaland.com/4452659/how-train-brain-stop-worrying/2\">(3)</a>,\n <a href=\"/lovelylad\">lovelylad</a>,\n <a href=\"/dljbd1\">dljbd1</a>]"
     },
     "execution_count": 40,
     "metadata": {},
     "output_type": "execute_result"
    }
   ],
   "source": [
    "t1[0].select('a')"
   ]
  },
  {
   "cell_type": "code",
   "execution_count": null,
   "metadata": {},
   "outputs": [],
   "source": []
  }
 ]
}