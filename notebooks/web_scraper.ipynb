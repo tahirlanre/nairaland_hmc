{
 "nbformat": 4,
 "nbformat_minor": 2,
 "metadata": {
  "language_info": {
   "name": "python",
   "codemirror_mode": {
    "name": "ipython",
    "version": 3
   },
   "version": "3.7.6-final"
  },
  "orig_nbformat": 2,
  "file_extension": ".py",
  "mimetype": "text/x-python",
  "name": "python",
  "npconvert_exporter": "python",
  "pygments_lexer": "ipython3",
  "version": 3,
  "kernelspec": {
   "name": "python37664bitnairalandconda4ff64808d17c4bb386b7d70efa356c03",
   "display_name": "Python 3.7.6 64-bit ('nairaland': conda)"
  }
 },
 "cells": [
  {
   "cell_type": "code",
   "execution_count": 3,
   "metadata": {},
   "outputs": [],
   "source": [
    "import requests\n",
    "from bs4 import BeautifulSoup\n",
    "import pandas as pd\n",
    "import re\n",
    "from tqdm import tqdm"
   ]
  },
  {
   "cell_type": "code",
   "execution_count": null,
   "metadata": {},
   "outputs": [],
   "source": [
    "def get_forum_posts(start_url):\n",
    "    headers = requests.utils.default_headers()\n",
    "    headers.update({\n",
    "        'User-Agent': 'Mozilla/5.0 (X11; Ubuntu; Linux x86_64; rv:52.0) Gecko/20100101 Firefox/52.0',\n",
    "    })\n",
    "\n",
    "    start_url = start_url\n",
    "    response = requests.get(start_url, headers)\n",
    "    html = BeautifulSoup(response.text, 'html5lib')\n",
    "    forum_posts = []\n",
    "\n",
    "    page = 10 #int(html.select('body > div > p:nth-child(7)')[0].select('b')[1].text)\n",
    "\n",
    "    for i in tqdm(range(page)):\n",
    "        forum_url = start_url + '{}'.format(i)\n",
    "        r = requests.get(forum_url, headers=headers)\n",
    "        html_soup = BeautifulSoup(r.text, 'html5lib')\n",
    "        n = 2\n",
    "        while True:\n",
    "            topic = html_soup.select(\"body > div > table:nth-child(9) > tbody > tr:nth-child({})\".format(n))\n",
    "            import pdb; pdb.set_trace()\n",
    "            if len(topic) > 0:\n",
    "                #import pdb; pdb.set_trace()\n",
    "                name = topic[0].select('a')[1].getText() #Get topic of post\n",
    "                views = 0\n",
    "                sub_url = topic[0].select('a')[1].get('href')\n",
    "                no_of_posts = 0\n",
    "                created_by = ''\n",
    "                num_of_page = topic[0].select('a')[-3].text\n",
    "                num_of_page = int(num_of_page[1:-1]) #remove brackets and convert to integer\n",
    "                file_location = ''\n",
    "                forum_posts.append([name, views, sub_url, no_of_posts, created_by, num_of_page, file_location])\n",
    "            else:\n",
    "                break\n",
    "            n = n + 1\n",
    "    return forum_posts"
   ]
  },
  {
   "cell_type": "code",
   "execution_count": null,
   "metadata": {},
   "outputs": [],
   "source": [
    "def getPostName(post):\n",
    "    \"\"\"Attempt to get a name.\"\"\"\n",
    "    name = ''\n",
    "    name = post[0].select('a')[1].getText() #Get topic of post\n",
    "    return name"
   ]
  },
  {
   "cell_type": "code",
   "execution_count": null,
   "metadata": {},
   "outputs": [],
   "source": [
    "def getPostViews(post):\n",
    "    \"\"\"Attempt to get the number of views\"\"\"\n",
    "    no_of_views = 0\n",
    "    return no_of_views"
   ]
  },
  {
   "cell_type": "code",
   "execution_count": null,
   "metadata": {},
   "outputs": [],
   "source": [
    "def getPostUrl(post):\n",
    "    \"\"\"Attempt to get the url\"\"\"\n",
    "    url = ''\n",
    "    url = post[0].select('a')[1].get('href')\n",
    "    return url"
   ]
  },
  {
   "cell_type": "code",
   "execution_count": null,
   "metadata": {},
   "outputs": [],
   "source": [
    "def getPostAuthor(post):\n",
    "    \"\"\"Attempt to get the author\"\"\"\n",
    "    author = ''\n",
    "    return author"
   ]
  },
  {
   "cell_type": "code",
   "execution_count": null,
   "metadata": {},
   "outputs": [],
   "source": [
    "def getPostLength(post):\n",
    "    \"\"\"Attempt to get the length of post\"\"\"\n",
    "    length_of_post = 0\n",
    "    return length_of_post\n"
   ]
  },
  {
   "cell_type": "code",
   "execution_count": null,
   "metadata": {},
   "outputs": [],
   "source": [
    "def getPostLikes(post):\n",
    "    \"\"\"Attempt to get the number of likes\"\"\"\n",
    "    no_of_likes = 0\n",
    "    return no_of_likes"
   ]
  },
  {
   "cell_type": "code",
   "execution_count": null,
   "metadata": {},
   "outputs": [],
   "source": [
    "df = pd.DataFrame(res, columns=['name', 'views', 'sub_url', 'no_of_posts', 'created_by', 'num_of_page', 'file_location'])"
   ]
  },
  {
   "cell_type": "code",
   "execution_count": null,
   "metadata": {},
   "outputs": [],
   "source": [
    "df.to_csv('../data/raw/forum_posts.csv', index=False)"
   ]
  },
  {
   "cell_type": "code",
   "execution_count": null,
   "metadata": {},
   "outputs": [],
   "source": [
    "url = 'https://www.nairaland.com/health/'"
   ]
  },
  {
   "cell_type": "code",
   "execution_count": null,
   "metadata": {},
   "outputs": [],
   "source": [
    "get_forum_posts(url)"
   ]
  },
  {
   "cell_type": "code",
   "execution_count": 53,
   "metadata": {},
   "outputs": [],
   "source": [
    "x = 'https://www.nairaland.com/health/posts/'\n",
    "resp = requests.get(x)\n",
    "html_ = BeautifulSoup(resp.text, 'lxml')"
   ]
  },
  {
   "cell_type": "code",
   "execution_count": 54,
   "metadata": {},
   "outputs": [],
   "source": [
    "res = html_.find_all('a')"
   ]
  },
  {
   "cell_type": "code",
   "execution_count": 55,
   "metadata": {},
   "outputs": [
    {
     "name": "stdout",
     "output_type": "stream",
     "text": "top\n889053\n318334\n971395\n2349556\n773873\n3465\n104493\n282744\n1995601\n1963635\n920221\n2517785\n1901983\n1939626\n2110709\n1461715\n2359036\n3121560\n1118489\n4020173\n1946413\n749722\n3020205\n2343618\n4497577\n1875196\n959554\n2382434\n5497977\n2743949\n1790395\n1415372\n5362124\n3040666\n2424472\n2824995\n3030361\n1922005\n1857597\n2421136\n1848113\n3992920\n3690824\n3610949\n5617969\n1858679\n681233\n1388182\n297224\n1970508\n1860188\n2456507\n3124956\n1796140\n729531\n1577010\n2406695\n5003614\n2424486\n1860703\n1459066\n5194690\n2676698\n"
    }
   ],
   "source": [
    "for r in res:\n",
    "    if r.get('name') != None:\n",
    "        print(r.get('name'))"
   ]
  },
  {
   "cell_type": "code",
   "execution_count": null,
   "metadata": {},
   "outputs": [],
   "source": []
  }
 ]
}