{
 "nbformat": 4,
 "nbformat_minor": 2,
 "metadata": {
  "language_info": {
   "name": "python",
   "codemirror_mode": {
    "name": "ipython",
    "version": 3
   },
   "version": "3.7.6-final"
  },
  "orig_nbformat": 2,
  "file_extension": ".py",
  "mimetype": "text/x-python",
  "name": "python",
  "npconvert_exporter": "python",
  "pygments_lexer": "ipython3",
  "version": 3,
  "kernelspec": {
   "name": "python37664bitnairalandconda4ff64808d17c4bb386b7d70efa356c03",
   "display_name": "Python 3.7.6 64-bit ('nairaland': conda)"
  }
 },
 "cells": [
  {
   "cell_type": "code",
   "execution_count": 61,
   "metadata": {},
   "outputs": [],
   "source": [
    "import requests\n",
    "from bs4 import BeautifulSoup\n",
    "import pandas as pd\n",
    "import re\n",
    "from datetime import datetime\n",
    "import pandas as pd"
   ]
  },
  {
   "cell_type": "code",
   "execution_count": 62,
   "metadata": {},
   "outputs": [],
   "source": [
    "# Set headers\n",
    "heads = requests.utils.default_headers()\n",
    "heads.update({\n",
    "    'User-Agent': 'Mozilla/5.0 (X11; Ubuntu; Linux x86_64; rv:52.0) Gecko/20100101 Firefox/52.0',\n",
    "   })"
   ]
  },
  {
   "cell_type": "code",
   "execution_count": 63,
   "metadata": {},
   "outputs": [],
   "source": [
    "# helper functions to retrieve detials about each post\n",
    "def getUser(header):\n",
    "    user = ''\n",
    "    user_tag = header.find(\"a\", class_=\"user\")\n",
    "    if user_tag:\n",
    "        user_tag.get_text()\n",
    "    return user\n",
    "\n",
    "def getTimestamp(header):\n",
    "    time = ''\n",
    "    date = ''\n",
    "    tag_datetime = header.contents[-1]\n",
    "    if tag_datetime:\n",
    "        time = tag_datetime.contents[0].contents[0]\n",
    "    if len(tag_datetime.contents) == 3:\n",
    "        date = tag_datetime.contents[-1].contents[0]\n",
    "    elif len(tag_datetime.contents) == 6:\n",
    "        date = tag_datetime.contents[2].contents[0] + ' ' + tag_datetime.contents[4].contents[0]\n",
    "    date_time = '{} {}'.format(date, time) \n",
    "    return date_time\n",
    "\n",
    "def getLikesShares(body):\n",
    "    likes = ''\n",
    "    shares = ''\n",
    "    s_class = body.find(\"p\", class_='s')\n",
    "    if s_class:\n",
    "        likes = s_class.find_all('b')[0].get_text()\n",
    "        shares = s_class.find_all('b')[1].get_text()\n",
    "    return [likes, shares]\n",
    "\n",
    "def getQuote(body):\n",
    "    quotes = []\n",
    "    content = body.find('div', class_='narrow')\n",
    "    blockquotes = content.find_all('blockquote')\n",
    "    for blockquote in blockquotes:\n",
    "        a_tag = blockquote.find('a')\n",
    "        if a_tag:\n",
    "            _id = a_tag.get('href')\n",
    "            quotes.append(_id)\n",
    "    return quotes\n",
    "\n",
    "def getText(body):\n",
    "    content = body.find('div', class_='narrow')\n",
    "    quotes = getQuote(body)\n",
    "    text = ''\n",
    "    for i in range(0, len(quotes)):\n",
    "        content.blockquote.extract()\n",
    "    text = content.get_text()\n",
    "    return text\n",
    "\n",
    "def getPostID(header):\n",
    "    post_id = ''\n",
    "    name = header.find_all('a')[0].get('name')\n",
    "    if name:\n",
    "        post_id = name\n",
    "    return post_id\n",
    "\n",
    "def is_post_equal(post1, post2):\n",
    "    return post1 == post2"
   ]
  },
  {
   "cell_type": "code",
   "execution_count": 64,
   "metadata": {},
   "outputs": [],
   "source": [
    "# retrieve details of each post\n",
    "def parse_post(header, body):\n",
    "    post = {}\n",
    "    post['posted'] = getTimestamp(header)\n",
    "    post['retrieved'] = datetime.now().strftime(\"%H:%M:%S %d-%m-%Y\")\n",
    "    post['shares'] = getLikesShares(body)[1]\n",
    "    post['likes'] = getLikesShares(body)[0]\n",
    "    post['user'] = getUser(header)\n",
    "    post['has_quote'] = True if getQuote(body) else False\n",
    "    post['quotes'] = getQuote(body)\n",
    "    post['text'] = getText(body)\n",
    "    post['post_id'] = getPostID(header)\n",
    "    return post"
   ]
  },
  {
   "cell_type": "code",
   "execution_count": 65,
   "metadata": {},
   "outputs": [],
   "source": [
    "# retrieve posts from thread\n",
    "def parse_thread(thread):\n",
    "    page = 0 # start from the first page\n",
    "    next_page = True\n",
    "    index_post = ''\n",
    "    previous_index_post = ''\n",
    "\n",
    "    data = []\n",
    "\n",
    "    while next_page:\n",
    "        start_url = 'https://www.nairaland.com/{}/{}'.format(thread, page)\n",
    "        r1 = requests.get(start_url, heads)\n",
    "        thread_html = BeautifulSoup(r1.text, 'lxml')\n",
    "\n",
    "        headers = thread_html.find_all('td', class_='bold l pu')\n",
    "        bodys = thread_html.find_all('td', class_='l w pd')\n",
    "\n",
    "        #retrieve first post in the thread \n",
    "        index_post = getPostID(headers[0]) \n",
    "\n",
    "        if page > 1:\n",
    "            # compare first post on current page with previous page\n",
    "            if is_post_equal(index_post, previous_index_post):\n",
    "                break\n",
    "\n",
    "        for i in range(len(headers)):\n",
    "            header = headers[i]\n",
    "            body = bodys[i]\n",
    "            post = parse_post(header, body)\n",
    "            post.update({''})\n",
    "            data.append(post)\n",
    "        \n",
    "        previous_index_post = index_post\n",
    "        page += 1\n",
    "    return data"
   ]
  },
  {
   "cell_type": "code",
   "execution_count": 66,
   "metadata": {},
   "outputs": [],
   "source": [
    "data = parse_thread('5681629')"
   ]
  },
  {
   "cell_type": "code",
   "execution_count": 67,
   "metadata": {},
   "outputs": [],
   "source": [
    "df = pd.DataFrame(data)"
   ]
  },
  {
   "cell_type": "code",
   "execution_count": 68,
   "metadata": {},
   "outputs": [
    {
     "data": {
      "text/plain": "64"
     },
     "execution_count": 68,
     "metadata": {},
     "output_type": "execute_result"
    }
   ],
   "source": [
    "len(df)"
   ]
  }
 ]
}